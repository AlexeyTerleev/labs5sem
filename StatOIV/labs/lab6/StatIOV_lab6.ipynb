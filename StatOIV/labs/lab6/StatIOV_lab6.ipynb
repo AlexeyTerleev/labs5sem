{
  "cells": [
    {
      "cell_type": "code",
      "execution_count": 95,
      "metadata": {
        "id": "-xWCzyFw6Cxl"
      },
      "outputs": [],
      "source": [
        "from zipfile import ZipFile\n",
        "import random\n",
        "import numpy as np\n",
        "import sklearn as sk\n",
        "import pandas as pd\n",
        "import statsmodels as sm\n",
        "import matplotlib.pyplot as plt"
      ]
    },
    {
      "cell_type": "code",
      "execution_count": 69,
      "metadata": {
        "id": "cNSdPgut6NfN"
      },
      "outputs": [],
      "source": [
        "with ZipFile('archive.zip', 'r') as zObject:\n",
        "    zObject.extractall(path=\"dataset\")\n",
        "\n",
        "df = pd.read_csv(\"dataset/london_weather.csv\")"
      ]
    },
    {
      "cell_type": "code",
      "execution_count": 70,
      "metadata": {
        "colab": {
          "base_uri": "https://localhost:8080/",
          "height": 206
        },
        "id": "5B_bm1uO7GUf",
        "outputId": "8cf2d087-420c-46b9-de33-1b2899d7bc75"
      },
      "outputs": [
        {
          "output_type": "execute_result",
          "data": {
            "text/plain": [
              "       date  cloud_cover  sunshine  global_radiation  max_temp  mean_temp  \\\n",
              "0  19790101          2.0       7.0              52.0       2.3       -4.1   \n",
              "1  19790102          6.0       1.7              27.0       1.6       -2.6   \n",
              "2  19790103          5.0       0.0              13.0       1.3       -2.8   \n",
              "3  19790104          8.0       0.0              13.0      -0.3       -2.6   \n",
              "4  19790105          6.0       2.0              29.0       5.6       -0.8   \n",
              "\n",
              "   min_temp  precipitation  pressure  snow_depth  \n",
              "0      -7.5            0.4  101900.0         9.0  \n",
              "1      -7.5            0.0  102530.0         8.0  \n",
              "2      -7.2            0.0  102050.0         4.0  \n",
              "3      -6.5            0.0  100840.0         2.0  \n",
              "4      -1.4            0.0  102250.0         1.0  "
            ],
            "text/html": [
              "\n",
              "  <div id=\"df-929f0ba5-5ebc-409e-8866-e298de53cf0c\" class=\"colab-df-container\">\n",
              "    <div>\n",
              "<style scoped>\n",
              "    .dataframe tbody tr th:only-of-type {\n",
              "        vertical-align: middle;\n",
              "    }\n",
              "\n",
              "    .dataframe tbody tr th {\n",
              "        vertical-align: top;\n",
              "    }\n",
              "\n",
              "    .dataframe thead th {\n",
              "        text-align: right;\n",
              "    }\n",
              "</style>\n",
              "<table border=\"1\" class=\"dataframe\">\n",
              "  <thead>\n",
              "    <tr style=\"text-align: right;\">\n",
              "      <th></th>\n",
              "      <th>date</th>\n",
              "      <th>cloud_cover</th>\n",
              "      <th>sunshine</th>\n",
              "      <th>global_radiation</th>\n",
              "      <th>max_temp</th>\n",
              "      <th>mean_temp</th>\n",
              "      <th>min_temp</th>\n",
              "      <th>precipitation</th>\n",
              "      <th>pressure</th>\n",
              "      <th>snow_depth</th>\n",
              "    </tr>\n",
              "  </thead>\n",
              "  <tbody>\n",
              "    <tr>\n",
              "      <th>0</th>\n",
              "      <td>19790101</td>\n",
              "      <td>2.0</td>\n",
              "      <td>7.0</td>\n",
              "      <td>52.0</td>\n",
              "      <td>2.3</td>\n",
              "      <td>-4.1</td>\n",
              "      <td>-7.5</td>\n",
              "      <td>0.4</td>\n",
              "      <td>101900.0</td>\n",
              "      <td>9.0</td>\n",
              "    </tr>\n",
              "    <tr>\n",
              "      <th>1</th>\n",
              "      <td>19790102</td>\n",
              "      <td>6.0</td>\n",
              "      <td>1.7</td>\n",
              "      <td>27.0</td>\n",
              "      <td>1.6</td>\n",
              "      <td>-2.6</td>\n",
              "      <td>-7.5</td>\n",
              "      <td>0.0</td>\n",
              "      <td>102530.0</td>\n",
              "      <td>8.0</td>\n",
              "    </tr>\n",
              "    <tr>\n",
              "      <th>2</th>\n",
              "      <td>19790103</td>\n",
              "      <td>5.0</td>\n",
              "      <td>0.0</td>\n",
              "      <td>13.0</td>\n",
              "      <td>1.3</td>\n",
              "      <td>-2.8</td>\n",
              "      <td>-7.2</td>\n",
              "      <td>0.0</td>\n",
              "      <td>102050.0</td>\n",
              "      <td>4.0</td>\n",
              "    </tr>\n",
              "    <tr>\n",
              "      <th>3</th>\n",
              "      <td>19790104</td>\n",
              "      <td>8.0</td>\n",
              "      <td>0.0</td>\n",
              "      <td>13.0</td>\n",
              "      <td>-0.3</td>\n",
              "      <td>-2.6</td>\n",
              "      <td>-6.5</td>\n",
              "      <td>0.0</td>\n",
              "      <td>100840.0</td>\n",
              "      <td>2.0</td>\n",
              "    </tr>\n",
              "    <tr>\n",
              "      <th>4</th>\n",
              "      <td>19790105</td>\n",
              "      <td>6.0</td>\n",
              "      <td>2.0</td>\n",
              "      <td>29.0</td>\n",
              "      <td>5.6</td>\n",
              "      <td>-0.8</td>\n",
              "      <td>-1.4</td>\n",
              "      <td>0.0</td>\n",
              "      <td>102250.0</td>\n",
              "      <td>1.0</td>\n",
              "    </tr>\n",
              "  </tbody>\n",
              "</table>\n",
              "</div>\n",
              "    <div class=\"colab-df-buttons\">\n",
              "\n",
              "  <div class=\"colab-df-container\">\n",
              "    <button class=\"colab-df-convert\" onclick=\"convertToInteractive('df-929f0ba5-5ebc-409e-8866-e298de53cf0c')\"\n",
              "            title=\"Convert this dataframe to an interactive table.\"\n",
              "            style=\"display:none;\">\n",
              "\n",
              "  <svg xmlns=\"http://www.w3.org/2000/svg\" height=\"24px\" viewBox=\"0 -960 960 960\">\n",
              "    <path d=\"M120-120v-720h720v720H120Zm60-500h600v-160H180v160Zm220 220h160v-160H400v160Zm0 220h160v-160H400v160ZM180-400h160v-160H180v160Zm440 0h160v-160H620v160ZM180-180h160v-160H180v160Zm440 0h160v-160H620v160Z\"/>\n",
              "  </svg>\n",
              "    </button>\n",
              "\n",
              "  <style>\n",
              "    .colab-df-container {\n",
              "      display:flex;\n",
              "      gap: 12px;\n",
              "    }\n",
              "\n",
              "    .colab-df-convert {\n",
              "      background-color: #E8F0FE;\n",
              "      border: none;\n",
              "      border-radius: 50%;\n",
              "      cursor: pointer;\n",
              "      display: none;\n",
              "      fill: #1967D2;\n",
              "      height: 32px;\n",
              "      padding: 0 0 0 0;\n",
              "      width: 32px;\n",
              "    }\n",
              "\n",
              "    .colab-df-convert:hover {\n",
              "      background-color: #E2EBFA;\n",
              "      box-shadow: 0px 1px 2px rgba(60, 64, 67, 0.3), 0px 1px 3px 1px rgba(60, 64, 67, 0.15);\n",
              "      fill: #174EA6;\n",
              "    }\n",
              "\n",
              "    .colab-df-buttons div {\n",
              "      margin-bottom: 4px;\n",
              "    }\n",
              "\n",
              "    [theme=dark] .colab-df-convert {\n",
              "      background-color: #3B4455;\n",
              "      fill: #D2E3FC;\n",
              "    }\n",
              "\n",
              "    [theme=dark] .colab-df-convert:hover {\n",
              "      background-color: #434B5C;\n",
              "      box-shadow: 0px 1px 3px 1px rgba(0, 0, 0, 0.15);\n",
              "      filter: drop-shadow(0px 1px 2px rgba(0, 0, 0, 0.3));\n",
              "      fill: #FFFFFF;\n",
              "    }\n",
              "  </style>\n",
              "\n",
              "    <script>\n",
              "      const buttonEl =\n",
              "        document.querySelector('#df-929f0ba5-5ebc-409e-8866-e298de53cf0c button.colab-df-convert');\n",
              "      buttonEl.style.display =\n",
              "        google.colab.kernel.accessAllowed ? 'block' : 'none';\n",
              "\n",
              "      async function convertToInteractive(key) {\n",
              "        const element = document.querySelector('#df-929f0ba5-5ebc-409e-8866-e298de53cf0c');\n",
              "        const dataTable =\n",
              "          await google.colab.kernel.invokeFunction('convertToInteractive',\n",
              "                                                    [key], {});\n",
              "        if (!dataTable) return;\n",
              "\n",
              "        const docLinkHtml = 'Like what you see? Visit the ' +\n",
              "          '<a target=\"_blank\" href=https://colab.research.google.com/notebooks/data_table.ipynb>data table notebook</a>'\n",
              "          + ' to learn more about interactive tables.';\n",
              "        element.innerHTML = '';\n",
              "        dataTable['output_type'] = 'display_data';\n",
              "        await google.colab.output.renderOutput(dataTable, element);\n",
              "        const docLink = document.createElement('div');\n",
              "        docLink.innerHTML = docLinkHtml;\n",
              "        element.appendChild(docLink);\n",
              "      }\n",
              "    </script>\n",
              "  </div>\n",
              "\n",
              "\n",
              "<div id=\"df-dc1e6123-3be3-4f51-a94c-bb23ae45f340\">\n",
              "  <button class=\"colab-df-quickchart\" onclick=\"quickchart('df-dc1e6123-3be3-4f51-a94c-bb23ae45f340')\"\n",
              "            title=\"Suggest charts\"\n",
              "            style=\"display:none;\">\n",
              "\n",
              "<svg xmlns=\"http://www.w3.org/2000/svg\" height=\"24px\"viewBox=\"0 0 24 24\"\n",
              "     width=\"24px\">\n",
              "    <g>\n",
              "        <path d=\"M19 3H5c-1.1 0-2 .9-2 2v14c0 1.1.9 2 2 2h14c1.1 0 2-.9 2-2V5c0-1.1-.9-2-2-2zM9 17H7v-7h2v7zm4 0h-2V7h2v10zm4 0h-2v-4h2v4z\"/>\n",
              "    </g>\n",
              "</svg>\n",
              "  </button>\n",
              "\n",
              "<style>\n",
              "  .colab-df-quickchart {\n",
              "      --bg-color: #E8F0FE;\n",
              "      --fill-color: #1967D2;\n",
              "      --hover-bg-color: #E2EBFA;\n",
              "      --hover-fill-color: #174EA6;\n",
              "      --disabled-fill-color: #AAA;\n",
              "      --disabled-bg-color: #DDD;\n",
              "  }\n",
              "\n",
              "  [theme=dark] .colab-df-quickchart {\n",
              "      --bg-color: #3B4455;\n",
              "      --fill-color: #D2E3FC;\n",
              "      --hover-bg-color: #434B5C;\n",
              "      --hover-fill-color: #FFFFFF;\n",
              "      --disabled-bg-color: #3B4455;\n",
              "      --disabled-fill-color: #666;\n",
              "  }\n",
              "\n",
              "  .colab-df-quickchart {\n",
              "    background-color: var(--bg-color);\n",
              "    border: none;\n",
              "    border-radius: 50%;\n",
              "    cursor: pointer;\n",
              "    display: none;\n",
              "    fill: var(--fill-color);\n",
              "    height: 32px;\n",
              "    padding: 0;\n",
              "    width: 32px;\n",
              "  }\n",
              "\n",
              "  .colab-df-quickchart:hover {\n",
              "    background-color: var(--hover-bg-color);\n",
              "    box-shadow: 0 1px 2px rgba(60, 64, 67, 0.3), 0 1px 3px 1px rgba(60, 64, 67, 0.15);\n",
              "    fill: var(--button-hover-fill-color);\n",
              "  }\n",
              "\n",
              "  .colab-df-quickchart-complete:disabled,\n",
              "  .colab-df-quickchart-complete:disabled:hover {\n",
              "    background-color: var(--disabled-bg-color);\n",
              "    fill: var(--disabled-fill-color);\n",
              "    box-shadow: none;\n",
              "  }\n",
              "\n",
              "  .colab-df-spinner {\n",
              "    border: 2px solid var(--fill-color);\n",
              "    border-color: transparent;\n",
              "    border-bottom-color: var(--fill-color);\n",
              "    animation:\n",
              "      spin 1s steps(1) infinite;\n",
              "  }\n",
              "\n",
              "  @keyframes spin {\n",
              "    0% {\n",
              "      border-color: transparent;\n",
              "      border-bottom-color: var(--fill-color);\n",
              "      border-left-color: var(--fill-color);\n",
              "    }\n",
              "    20% {\n",
              "      border-color: transparent;\n",
              "      border-left-color: var(--fill-color);\n",
              "      border-top-color: var(--fill-color);\n",
              "    }\n",
              "    30% {\n",
              "      border-color: transparent;\n",
              "      border-left-color: var(--fill-color);\n",
              "      border-top-color: var(--fill-color);\n",
              "      border-right-color: var(--fill-color);\n",
              "    }\n",
              "    40% {\n",
              "      border-color: transparent;\n",
              "      border-right-color: var(--fill-color);\n",
              "      border-top-color: var(--fill-color);\n",
              "    }\n",
              "    60% {\n",
              "      border-color: transparent;\n",
              "      border-right-color: var(--fill-color);\n",
              "    }\n",
              "    80% {\n",
              "      border-color: transparent;\n",
              "      border-right-color: var(--fill-color);\n",
              "      border-bottom-color: var(--fill-color);\n",
              "    }\n",
              "    90% {\n",
              "      border-color: transparent;\n",
              "      border-bottom-color: var(--fill-color);\n",
              "    }\n",
              "  }\n",
              "</style>\n",
              "\n",
              "  <script>\n",
              "    async function quickchart(key) {\n",
              "      const quickchartButtonEl =\n",
              "        document.querySelector('#' + key + ' button');\n",
              "      quickchartButtonEl.disabled = true;  // To prevent multiple clicks.\n",
              "      quickchartButtonEl.classList.add('colab-df-spinner');\n",
              "      try {\n",
              "        const charts = await google.colab.kernel.invokeFunction(\n",
              "            'suggestCharts', [key], {});\n",
              "      } catch (error) {\n",
              "        console.error('Error during call to suggestCharts:', error);\n",
              "      }\n",
              "      quickchartButtonEl.classList.remove('colab-df-spinner');\n",
              "      quickchartButtonEl.classList.add('colab-df-quickchart-complete');\n",
              "    }\n",
              "    (() => {\n",
              "      let quickchartButtonEl =\n",
              "        document.querySelector('#df-dc1e6123-3be3-4f51-a94c-bb23ae45f340 button');\n",
              "      quickchartButtonEl.style.display =\n",
              "        google.colab.kernel.accessAllowed ? 'block' : 'none';\n",
              "    })();\n",
              "  </script>\n",
              "</div>\n",
              "    </div>\n",
              "  </div>\n"
            ]
          },
          "metadata": {},
          "execution_count": 70
        }
      ],
      "source": [
        "df.head(5)"
      ]
    },
    {
      "cell_type": "code",
      "execution_count": 137,
      "metadata": {
        "id": "7xMGOjbo7HXV"
      },
      "outputs": [],
      "source": [
        "df['global_radiation'] = df['global_radiation'].fillna(df['global_radiation'].median())\n",
        "target_df = df[\"global_radiation\"]"
      ]
    },
    {
      "cell_type": "code",
      "execution_count": 138,
      "metadata": {
        "colab": {
          "base_uri": "https://localhost:8080/"
        },
        "id": "Qt-atZ5Q-CkJ",
        "outputId": "87827f88-6ef2-460b-db98-1055aa82b3c3"
      },
      "outputs": [
        {
          "output_type": "execute_result",
          "data": {
            "text/plain": [
              "0        52.0\n",
              "1        27.0\n",
              "2        13.0\n",
              "3        13.0\n",
              "4        29.0\n",
              "         ... \n",
              "15336    32.0\n",
              "15337    38.0\n",
              "15338    21.0\n",
              "15339    22.0\n",
              "15340    34.0\n",
              "Name: global_radiation, Length: 15341, dtype: float64"
            ]
          },
          "metadata": {},
          "execution_count": 138
        }
      ],
      "source": [
        "target_df"
      ]
    },
    {
      "cell_type": "code",
      "execution_count": 150,
      "metadata": {
        "id": "mjPtYHbG-ELK"
      },
      "outputs": [],
      "source": [
        "daily_temp = pd.Series(list(map(np.log, list(target_df))), index=pd.date_range(start='1/1/1979', periods=len(target_df), freq='d'))"
      ]
    },
    {
      "cell_type": "code",
      "execution_count": 151,
      "metadata": {
        "id": "y7GaQaqm-HD2",
        "colab": {
          "base_uri": "https://localhost:8080/"
        },
        "outputId": "8e5d97c4-79c8-4e22-8d6a-345f60739298"
      },
      "outputs": [
        {
          "output_type": "execute_result",
          "data": {
            "text/plain": [
              "1979-01-01    3.951244\n",
              "1979-01-02    3.295837\n",
              "1979-01-03    2.564949\n",
              "1979-01-04    2.564949\n",
              "1979-01-05    3.367296\n",
              "                ...   \n",
              "2020-12-27    3.465736\n",
              "2020-12-28    3.637586\n",
              "2020-12-29    3.044522\n",
              "2020-12-30    3.091042\n",
              "2020-12-31    3.526361\n",
              "Freq: D, Length: 15341, dtype: float64"
            ]
          },
          "metadata": {},
          "execution_count": 151
        }
      ],
      "source": [
        "daily_temp"
      ]
    },
    {
      "cell_type": "code",
      "execution_count": 152,
      "metadata": {
        "colab": {
          "base_uri": "https://localhost:8080/"
        },
        "id": "A9ni5-S0-NBC",
        "outputId": "84f831d3-7cc4-4c85-bf38-73211a0a1994"
      },
      "outputs": [
        {
          "output_type": "execute_result",
          "data": {
            "text/plain": [
              "10738.699999999999"
            ]
          },
          "metadata": {},
          "execution_count": 152
        }
      ],
      "source": [
        "15341 * 0.7"
      ]
    },
    {
      "cell_type": "code",
      "execution_count": 153,
      "metadata": {
        "id": "qbVuoFZE-Oo2"
      },
      "outputs": [],
      "source": [
        "train = daily_temp[:10738]\n",
        "test = daily_temp[10738:]"
      ]
    },
    {
      "cell_type": "code",
      "execution_count": 154,
      "metadata": {
        "id": "JWVnYotX-YcF"
      },
      "outputs": [],
      "source": [
        "fitted_model = sm.tsa.holtwinters.ExponentialSmoothing(train,trend='add',seasonal='add',seasonal_periods=365).fit()"
      ]
    },
    {
      "cell_type": "code",
      "execution_count": 155,
      "metadata": {
        "id": "ZdZTnpXp-hD4"
      },
      "outputs": [],
      "source": [
        "predictions = fitted_model.forecast(len(test))"
      ]
    },
    {
      "cell_type": "code",
      "execution_count": 156,
      "metadata": {
        "colab": {
          "base_uri": "https://localhost:8080/",
          "height": 449
        },
        "id": "2GnBlJDB-1k4",
        "outputId": "31645d9c-122f-4d8d-fd6b-86e43d721333"
      },
      "outputs": [
        {
          "output_type": "display_data",
          "data": {
            "text/plain": [
              "<Figure size 640x480 with 1 Axes>"
            ],
            "image/png": "[encoded data removed]"
          },
          "metadata": {}
        }
      ],
      "source": [
        "x1, y1 = predictions.index.values, predictions.values\n",
        "x2, y2 = test.index.values, test.values\n",
        "x3, y3 = train.index.values, train.values\n",
        "\n",
        "# plt.plot(x3, y3, label = \"Train\")\n",
        "plt.plot(x2, y2, label = \"Aim\")\n",
        "plt.plot(x1, y1, label = \"Predict\")\n",
        "\n",
        "plt.xlabel('date')\n",
        "plt.ylabel('temp')\n",
        "\n",
        "plt.legend()\n",
        "plt.show()"
      ]
    },
    {
      "cell_type": "code",
      "source": [
        "errors = predictions - test"
      ],
      "metadata": {
        "id": "6fVFNgsTve-c"
      },
      "execution_count": 157,
      "outputs": []
    },
    {
      "cell_type": "code",
      "source": [
        "x, y = errors.index.values, errors.values\n",
        "\n",
        "plt.plot(x, y, label = \"Error\")\n",
        "\n",
        "plt.xlabel('date')\n",
        "plt.ylabel('temp')\n",
        "\n",
        "plt.legend()\n",
        "plt.show()"
      ],
      "metadata": {
        "colab": {
          "base_uri": "https://localhost:8080/",
          "height": 449
        },
        "id": "IUdktVcqxi_R",
        "outputId": "3dcd2d5b-8302-4cb0-f9d7-094f4742e7da"
      },
      "execution_count": 158,
      "outputs": [
        {
          "output_type": "display_data",
          "data": {
            "text/plain": [
              "<Figure size 640x480 with 1 Axes>"
            ],
            "image/png": "[encoded data removed]"
          },
          "metadata": {}
        }
      ]
    },
    {
      "cell_type": "code",
      "source": [
        "sk.metrics.mean_squared_error(test, predictions)"
      ],
      "metadata": {
        "colab": {
          "base_uri": "https://localhost:8080/"
        },
        "id": "rduXYkMLxkzB",
        "outputId": "4d25a6d3-a5ea-49c6-9f4f-bc2120e70d25"
      },
      "execution_count": 159,
      "outputs": [
        {
          "output_type": "execute_result",
          "data": {
            "text/plain": [
              "0.24446390395692547"
            ]
          },
          "metadata": {},
          "execution_count": 159
        }
      ]
    },
    {
      "cell_type": "code",
      "source": [
        "sk.metrics.r2_score(test, predictions)"
      ],
      "metadata": {
        "colab": {
          "base_uri": "https://localhost:8080/"
        },
        "id": "QQn92tN8y5yy",
        "outputId": "ee059af8-b026-498f-f6a7-c5291949437e"
      },
      "execution_count": 160,
      "outputs": [
        {
          "output_type": "execute_result",
          "data": {
            "text/plain": [
              "0.7166773769626913"
            ]
          },
          "metadata": {},
          "execution_count": 160
        }
      ]
    },
    {
      "cell_type": "code",
      "source": [],
      "metadata": {
        "id": "2ROJX2XRzRzX"
      },
      "execution_count": null,
      "outputs": []
    }
  ],
  "metadata": {
    "colab": {
      "provenance": []
    },
    "kernelspec": {
      "display_name": "Python 3",
      "name": "python3"
    },
    "language_info": {
      "name": "python"
    }
  },
  "nbformat": 4,
  "nbformat_minor": 0
}